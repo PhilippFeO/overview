{
 "cells": [
  {
   "cell_type": "markdown",
   "id": "dafc9e42",
   "metadata": {},
   "source": [
    "# `request`-Modul [requests-Doku](https://requests.readthedocs.io/en/latest/)\n",
    "* Quickstart unter [Quickstart – resquests-Doku](https://requests.readthedocs.io/en/latest/user/quickstart/)\n",
    "* Erweiterte Einführung unter [Advanced Usage – requests-Doku](https://requests.readthedocs.io/en/latest/user/advanced/)"
   ]
  },
  {
   "cell_type": "code",
   "execution_count": 3,
   "id": "e91b19e0",
   "metadata": {},
   "outputs": [],
   "source": [
    "import requests"
   ]
  },
  {
   "cell_type": "markdown",
   "id": "1772a2b4",
   "metadata": {},
   "source": [
    "### Diverses\n",
    "`r = requests.get(...)`\n",
    "\n",
    "* `r.request.headers`: Header meiner Anfrage\n",
    "\n",
    "\n",
    "* `r.text`: `HTML`-Code der Seite (?)\n",
    "* `r.headers`: Header der Antwort\n",
    "* `r.cookies` oder `r.cookies[<SCHLÜSSEL>]`: Cookies der Antwort/Seite\n",
    "* `r.raw`: Seiten-Inhalt in Bytes (irgendetwas mit `urllib3`), gibt aber Unterschied zu `r.content`\n",
    "* `r.content`: Seiten-Inhalt in Bytes, gibt aber Unterschied zu `r.raw`, aber das benötige ich wasl. meistens"
   ]
  },
  {
   "cell_type": "markdown",
   "id": "17ad55ed",
   "metadata": {},
   "source": [
    "## `HTTP`-Requests verschicken\n",
    "* `r = requests.<REQUEST>(<URL>, ...)`\n",
    "    `<REQUEST> = (get | post | put | delete | head | options | ... )`\n",
    "* Rückgabe ist ein ``Response``-Objekt ``r``\n",
    "* **Immer mit Zeitlimit** verwenden, s. [Timeout/Zeitlimit – requests-Notebook](http://localhost:8888/notebooks/requests_module_Anleitung.ipynb#Timeout/Zeitlimit) (wird hier der Übersicht wegen weggelassen)"
   ]
  },
  {
   "cell_type": "code",
   "execution_count": 6,
   "id": "9b670744",
   "metadata": {},
   "outputs": [],
   "source": [
    "r = requests.get('https://api.github.com/events')\n",
    "r = requests.post('https://httpbin.org/post', data={'key': 'value'})\n",
    "r = requests.put('https://httpbin.org/put', data={'key': 'value'})\n",
    "r = requests.delete('https://httpbin.org/delete')\n",
    "r = requests.head('https://httpbin.org/get')\n",
    "r = requests.options('https://httpbin.org/get')"
   ]
  },
  {
   "cell_type": "markdown",
   "id": "5ee03896",
   "metadata": {},
   "source": [
    "### Diverses"
   ]
  },
  {
   "cell_type": "markdown",
   "id": "46a03927",
   "metadata": {},
   "source": [
    "* Setzt man `get()`, etc. ab, wird erst ein `Request`-Objekt konstruiert, das zum Server geschickt wird. Nach Erhalt der Antwort wird `Response`-Objekt instanziiert, das das `Request`-Objekt enthält, s. [Prepared Requests – requests-Notebook](http://localhost:8888/notebooks/requests_module_Anleitung.ipynb#Prepared-Requests)\n",
    "* Body wird direkt heruntergeladen (also, bspw. auch große Dateien). Kann per `stream=True` im Request verhindert werden, sodass dies erst mit Zugriff auf `Response.content` geschieht. Dadurch kann man ggfl. erst entscheiden, ob Body zu groß ist.\n",
    "    * In diesem Fall können auch `Response.iter_content()` & `Response.iter_lines()` hilfreich sein. Evtl. auch `urllib3.HTTPResponse` bei `Response.raw` (unsicher, was das genau ist, nur der Vollständigkeit wegen aufgeschrieben)\n",
    "    * Verbindung kann erst geschlossen werden, wenn Daten vollständig konsumiert oder `Response.close()` aufgerufen wurde. Evtl. bietet es sich ein `with`-Konstrukt an (wie bei [`Session` – requests-Notebook](http://localhost:8888/notebooks/requests_module_Anleitung.ipynb#Session-Objekte))\n",
    "    * [Body Content Workflow – requests-Doku](https://requests.readthedocs.io/en/latest/user/advanced/#body-content-workflow)"
   ]
  },
  {
   "cell_type": "code",
   "execution_count": null,
   "id": "bed29798",
   "metadata": {},
   "outputs": [],
   "source": [
    "tarball_url = 'https://github.com/psf/requests/tarball/main'\n",
    "r = requests.get(tarball_url, stream=True)\n",
    "if int(r.headers['content-length']) < TOO_LONG:\n",
    "    content = r.content\n",
    "    ..."
   ]
  },
  {
   "cell_type": "markdown",
   "id": "4707521c",
   "metadata": {},
   "source": [
    "### Eigene Header [Custom Headers – requests-Doku](https://requests.readthedocs.io/en/latest/user/quickstart/#custom-headers)\n",
    "\n",
    "Jede Request-Funktion verfügt über ``headers``-Parameter, der mit einem ``dict``-belegt werden kann"
   ]
  },
  {
   "cell_type": "code",
   "execution_count": 6,
   "id": "434c1a8d",
   "metadata": {},
   "outputs": [],
   "source": [
    "url = 'https://api.github.com/some/endpoint'\n",
    "headers = {'user-agent': 'my-app/0.0.1'}\n",
    "r = requests.get(url, headers=headers)  # Schlägt fehl, weil es den \"user-agent\" bei github nicht gibt"
   ]
  },
  {
   "cell_type": "markdown",
   "id": "57a3e73a",
   "metadata": {},
   "source": [
    "Eigene Header werden in manchen Fällen nachrangig behandelt (s. Quelle)"
   ]
  },
  {
   "cell_type": "markdown",
   "id": "5f29a3b9",
   "metadata": {},
   "source": [
    "### Dateien verschicken\n",
    "Am besten [POST a Multipart-Encoded File – request-Doku](https://requests.readthedocs.io/en/latest/user/quickstart/#post-a-multipart-encoded-file) konsultieren, hier wird der Vollständigkeit halber nur ein Beispiel angeführt.\n",
    "\n",
    "**Immer** im Binär-Modus `b` öffnen!"
   ]
  },
  {
   "cell_type": "code",
   "execution_count": null,
   "id": "49d14567",
   "metadata": {},
   "outputs": [],
   "source": [
    "url = 'https://httpbin.org/post'\n",
    "# **Immer** im Binär-Modus `b` öffnen!\n",
    "files = {'file': open('report.xls', 'rb')}\n",
    "r = requests.post(url, files=files)"
   ]
  },
  {
   "cell_type": "markdown",
   "id": "6fdd38df",
   "metadata": {},
   "source": [
    "### URL-Parameter (Pfad- und Queryparameter)\n",
    "#### Queryparameter\n",
    "Werden an die URL per KV-Paar ``key=value`` nach einem ``?`` angehängt, bspw. ``httpbin.org/get?key=value``, werden per ``&`` konkateniert, dh ``httpbin.org/get?key=value&key2=value2``.\n",
    "\n",
    "Per Hand umständlich, deswegen bietet ``requests`` ein ``params``-Argument."
   ]
  },
  {
   "cell_type": "code",
   "execution_count": 7,
   "id": "52a91cc9",
   "metadata": {},
   "outputs": [
    {
     "data": {
      "text/plain": [
       "'https://httpbin.org/get?key1=value1&key2=value2'"
      ]
     },
     "execution_count": 7,
     "metadata": {},
     "output_type": "execute_result"
    }
   ],
   "source": [
    "payload = {\"key1\": \"value1\", \"key2\": \"value2\"}\n",
    "# Auch mehrere Argumente möglich\n",
    "# payload = {\"key1\": \"value1\", \"key2\": [\"value2\", \"value3\"]}\n",
    "r = requests.get(\"https://httpbin.org/get\", params=payload)\n",
    "r.url  # Inspizieren, ob URL richtig zusammengebaut wurde"
   ]
  },
  {
   "cell_type": "markdown",
   "id": "4a92a013",
   "metadata": {},
   "source": [
    "#### Pfadparameter\n",
    "TODO  \n",
    "...wasl. einfach in die URL schreiben.."
   ]
  },
  {
   "cell_type": "markdown",
   "id": "d6d30021",
   "metadata": {},
   "source": [
    "### `params`-Attribut & `data`-Attribut\n",
    "[More complicated POST requests](https://requests.readthedocs.io/en/latest/user/quickstart/#more-complicated-post-requests)\n",
    "\n",
    "* Möchte `HTML`-Form-Daten übermitteln, muss man das `data`-Attribut verwenden!\n",
    "    * Mehrere Werte wie oben möglich\n",
    "* Keine `HTML`-Form-Daten erwünscht: Einfach String verwenden, bspw. `JSON` (s. dazu Link unten) \n",
    "\n",
    "Um `HTML`-Form-Daten zu verwenden, muss man wasl. davor auf der Seite, den Namen/die ID des Feldes im Code herausfinden und dann als Schlüssel verwenden."
   ]
  },
  {
   "cell_type": "markdown",
   "id": "d8a30322",
   "metadata": {},
   "source": [
    "### Cookies verschicken\n",
    "Einfach ein `dict` dem `cookies`-Parameter übergeben."
   ]
  },
  {
   "cell_type": "code",
   "execution_count": 10,
   "id": "beb1c470",
   "metadata": {},
   "outputs": [
    {
     "data": {
      "text/plain": [
       "'{\\n  \"cookies\": {\\n    \"cookies_are\": \"working\"\\n  }\\n}\\n'"
      ]
     },
     "execution_count": 10,
     "metadata": {},
     "output_type": "execute_result"
    }
   ],
   "source": [
    "url = 'https://httpbin.org/cookies'\n",
    "cookies = dict(cookies_are='working')\n",
    "r = requests.get(url, cookies=cookies)\n",
    "r.text"
   ]
  },
  {
   "cell_type": "markdown",
   "id": "567103d3",
   "metadata": {},
   "source": [
    "Cookies werden werden eigentlich per [`RequestCookieJar`](https://requests.readthedocs.io/en/latest/api/#requests.cookies.RequestsCookieJar) übergeben, was eine vollwertigere Schnittstelle für die Behandlung von Cookies darstellt.  \n",
    "TODO `RequestCookieJar`-Doku durchlesen"
   ]
  },
  {
   "cell_type": "code",
   "execution_count": 11,
   "id": "e648a38d",
   "metadata": {},
   "outputs": [
    {
     "data": {
      "text/plain": [
       "'{\\n  \"cookies\": {\\n    \"tasty_cookie\": \"yum\"\\n  }\\n}\\n'"
      ]
     },
     "execution_count": 11,
     "metadata": {},
     "output_type": "execute_result"
    }
   ],
   "source": [
    "jar = requests.cookies.RequestsCookieJar()\n",
    "jar.set('tasty_cookie', 'yum', domain='httpbin.org', path='/cookies')\n",
    "jar.set('gross_cookie', 'blech', domain='httpbin.org', path='/elsewhere')\n",
    "url = 'https://httpbin.org/cookies'\n",
    "r = requests.get(url, cookies=jar)\n",
    "r.text"
   ]
  },
  {
   "cell_type": "markdown",
   "id": "f30176ea",
   "metadata": {},
   "source": [
    "### Timeouts/Zeitlimit\n",
    "* Sollten **immer** verwendet werden, um zu verhindern, dass das Programm unendlich lange wartet!\n",
    "* `timeout=<ZEIT IN SEK>`, falls es abläuft wird [`Timeout-Exception – requests-Doku`](https://requests.readthedocs.io/en/latest/api/#requests.Timeout) geworfen"
   ]
  },
  {
   "cell_type": "code",
   "execution_count": null,
   "id": "19fa769c",
   "metadata": {},
   "outputs": [],
   "source": [
    "requests.get('https://github.com/', timeout=0.001)"
   ]
  },
  {
   "cell_type": "markdown",
   "id": "ddcc8f37",
   "metadata": {},
   "source": [
    "### Prepared Requests [Prepared Requests – requests-Doku](https://requests.readthedocs.io/en/latest/user/advanced/#prepared-requests)\n",
    "* Möchte man (umfangreichere) Änderungen am Body, Header, etc. vornehmen, bietet sich das `PreparedRequest`-Objekt an (das wird an sich auch in der `Response`-Instanz verwendet)\n",
    "    * `prepped = req.prepare()`: Einfacher Request\n",
    "    * `prepped = s.prepare_request(req)`: `Session`-Request, um die Vorteile einer `Session` zu nutzen\n",
    "* Umgebungsvariablen werden bei dieser Methode ignoriert (bspw. SSL-Fehler, s. Doku-Link oben für mehr Informationen)"
   ]
  },
  {
   "cell_type": "code",
   "execution_count": null,
   "id": "5d4f22c1",
   "metadata": {},
   "outputs": [],
   "source": [
    "from requests import Request, Session\n",
    "with Session as s:\n",
    "    req = Request('POST', url, data=data, headers=headers)\n",
    "    # Request vorbereiten (evtl. per prepped = s.prepare_request(req))\n",
    "    prepped = req.prepare()\n",
    "    # do something with prepped.body\n",
    "    prepped.body = 'No, I want exactly this as the body.'\n",
    "    # do something with prepped.headers\n",
    "    del prepped.headers['Content-Type']\n",
    "    # Send request\n",
    "    resp = s.send(\n",
    "        prepped,\n",
    "        stream=stream,\n",
    "        verify=verify,\n",
    "        proxies=proxies,\n",
    "        cert=cert,\n",
    "        timeout=timeout)\n",
    "    resp.status_code"
   ]
  },
  {
   "cell_type": "markdown",
   "id": "20e2884c",
   "metadata": {},
   "source": [
    "### Ereignisbedingte Funktionsaufrufe [Event Hooks – requests-Doku](https://requests.readthedocs.io/en/latest/user/advanced/#event-hooks)\n",
    "* Man kann `hooks` (Funktionen, die bei Erhalt automatisch ausgeführt werden) einer Anfrage/`Session` mitgeben\n",
    "    * Gegenwärtig sind sie nur bei Erhalt möglich, dh. der einzige Schlüssel ist „`response`“\n",
    "    * Syntax bei `Session`: `s.hooks[\"reponse\"].append(<FUNKTIONSNAME>)` (bei mehreren einfach Aufruf wiederholen)"
   ]
  },
  {
   "cell_type": "code",
   "execution_count": 20,
   "id": "f067f58d",
   "metadata": {},
   "outputs": [
    {
     "name": "stdout",
     "output_type": "stream",
     "text": [
      "https://httpbin.org/\n"
     ]
    },
    {
     "data": {
      "text/plain": [
       "'r.hook_called = True'"
      ]
     },
     "execution_count": 20,
     "metadata": {},
     "output_type": "execute_result"
    }
   ],
   "source": [
    "def print_url(r, *args, **kwargs):\n",
    "    print(r.url)\n",
    "\n",
    "def record_hook(r, *args, **kwargs):\n",
    "    r.hook_called = True\n",
    "    return r\n",
    "\n",
    "# wird Anfrage-URL printen sowie Attribut \"hook_called\" hinzufügen und auf \"True\" setzen\n",
    "r = requests.get('https://httpbin.org/', hooks={'response': [print_url, record_hook]})\n",
    "f\"{r.hook_called = }\""
   ]
  },
  {
   "cell_type": "markdown",
   "id": "ed832137",
   "metadata": {},
   "source": [
    "### Eigene Authentifizierung [Custom Authentication – requests-Doku](https://requests.readthedocs.io/en/latest/user/advanced/#custom-authentication)"
   ]
  },
  {
   "cell_type": "markdown",
   "id": "b3016958",
   "metadata": {},
   "source": [
    "## ``Response``-Objekt\n",
    "* ``r.text``: Antwort auf Grundlage von ``r.encoding`` als Text darstellen\n",
    "    * ``r.encoding`` Gibt Kodierung der Seite an, **kann** falsch sein, deswegen kann man den Wert ändern, sodass ``r.text`` lesbar wird.\n",
    "    * ``HTTP`` & ``XML`` spezifizieren Encoding im Body, dieser kann per ``r.content`` ausgelesen werden, um dann das Richtige zu setzen.\n",
    "* ``r.json()`` Antwort als ``JSON``, Mehr unter [JSON REsponse Content – requests-Doku](https://requests.readthedocs.io/en/latest/user/quickstart/#json-response-content)\n",
    "* ``r.content``: Body der Antwort in Bytes (``b\"...\"``), bspw können Bilder nicht sinnvoll Text dargestellt werden (mehr unter [Binary Response Content – requests-Doku](https://requests.readthedocs.io/en/latest/user/quickstart/#binary-response-content))\n",
    "* ``r.raw``: „Raw socket response“ des Servers, dafür ``stream=True`` im initialen Request setzen\n",
    "    * [Raw Response Content – requests-Doku](https://requests.readthedocs.io/en/latest/user/quickstart/#raw-response-content)\n",
    "    * ``r.raw.read(<NMB BYTES>)`` um ``NMB BYTES`` auszulesen\n",
    "    * ...aber lieber ``Response.iter_content()`` nutzen\n",
    "    * TODO Nicht klar, wofür man das benötigt"
   ]
  },
  {
   "cell_type": "markdown",
   "id": "f76653bd",
   "metadata": {},
   "source": [
    "### Status-Meldungen/Codes\n",
    "* `r.status_code` Status-Code der Anwort einholen\n",
    "    * Es gibt auch „Status-Code-Lookups“, wie `requests.codes.ok` (`== 200`)\n",
    "* „Fehler“-Status-Codes (`(4|5)\\d{2}`) können per `<RESPONSE>.raise_for_status()` geworfen werden.\n",
    "    * Im Falle eines `r.status_code==200` passiert dann Nichts."
   ]
  },
  {
   "cell_type": "markdown",
   "id": "059ad20b",
   "metadata": {},
   "source": [
    "### Antwort-Header [Response Headers – requests-Doku](https://requests.readthedocs.io/en/latest/user/quickstart/#response-headers)\n",
    "`r.headers` Antwort-Header sind ein `dict` (`HTTP`-Schlüssel sind Kasus-insensitiv)"
   ]
  },
  {
   "cell_type": "markdown",
   "id": "7b72f0a2",
   "metadata": {},
   "source": [
    "### Cookies [Cookies – requests-Doku](https://requests.readthedocs.io/en/latest/user/quickstart/#cookies)\n",
    "`r.cookies[<COOKIE-NAME>]` Zugriff auf Wert des Cookies `<COOKIE-NAME>`"
   ]
  },
  {
   "cell_type": "code",
   "execution_count": null,
   "id": "7e4d7394",
   "metadata": {},
   "outputs": [],
   "source": [
    "url = 'http://example.com/some/cookie/setting/url'\n",
    "r = requests.get(url)\n",
    "r.cookies['example_cookie_name']"
   ]
  },
  {
   "cell_type": "markdown",
   "id": "4b582c9d",
   "metadata": {},
   "source": [
    "Cookies werden eigentlich als [`RequestsCookieJar – requests-Doku`](https://requests.readthedocs.io/en/latest/api/#requests.cookies.RequestsCookieJar) zurückgegeben und können auch als dieses übergeben werden.  \n",
    "TODO `RequestCookieJar`-Doku durchlesen"
   ]
  },
  {
   "cell_type": "markdown",
   "id": "a62546a0",
   "metadata": {},
   "source": [
    "[1]: „.“ in Überschrift, da diese sonst nicht gerendert wird (?)"
   ]
  },
  {
   "cell_type": "markdown",
   "id": "5a3958ae",
   "metadata": {},
   "source": [
    "### Weiterleitung und Historie [Redirection and History – requests-Doku](https://requests.readthedocs.io/en/latest/user/quickstart/#redirection-and-history)\n",
    "* Weiterleitung aktiviert, außer für `requests.head()`, dann explizit `allow_redirects=True` setzen\n",
    "* Anzahl der maximalen Weiterleitungen kann angegeben werden\n",
    "* `r.history: List` Historie der Weiterleitungen inspizieren"
   ]
  },
  {
   "cell_type": "code",
   "execution_count": 26,
   "id": "3cfdb30a",
   "metadata": {},
   "outputs": [
    {
     "data": {
      "text/plain": [
       "200"
      ]
     },
     "execution_count": 26,
     "metadata": {},
     "output_type": "execute_result"
    }
   ],
   "source": [
    "# GitHub leitet automatisch von `HTTP` zu `HTTPS` weiter\n",
    "r = requests.get('http://github.com/')\n",
    "r.status_code"
   ]
  },
  {
   "cell_type": "markdown",
   "id": "23f83280",
   "metadata": {},
   "source": [
    "...Aber `r.history` ist nicht leer und zeigt Weiterleitung:"
   ]
  },
  {
   "cell_type": "code",
   "execution_count": 27,
   "id": "f686f5af",
   "metadata": {},
   "outputs": [
    {
     "data": {
      "text/plain": [
       "[<Response [301]>]"
      ]
     },
     "execution_count": 27,
     "metadata": {},
     "output_type": "execute_result"
    }
   ],
   "source": [
    "r.history"
   ]
  },
  {
   "cell_type": "markdown",
   "id": "ac312811",
   "metadata": {},
   "source": [
    "* Weiterleitungen können per `allow_redirects=False` unterbunden werden"
   ]
  },
  {
   "cell_type": "code",
   "execution_count": 28,
   "id": "54674fdb",
   "metadata": {},
   "outputs": [
    {
     "data": {
      "text/plain": [
       "(301, [])"
      ]
     },
     "execution_count": 28,
     "metadata": {},
     "output_type": "execute_result"
    }
   ],
   "source": [
    "r = requests.get('http://github.com/', allow_redirects=False)\n",
    "r.status_code, r.history"
   ]
  },
  {
   "cell_type": "markdown",
   "id": "990741b0",
   "metadata": {},
   "source": [
    "## `Session`-Objekte\n",
    "* Erlaubt bestimmte Parameter über mehrere Requests hinweg zu halten, selbiges gilt für Cookies (nutzt `urllib3`, unterliegende `TCP`-Verbindung wird wiederverwendet)\n",
    "* Verfügt über alle Methoden eines einfachen Requests (wie `get()`, `post()`, ..., s. [`HTTP`-Request verschicken](http://localhost:8888/notebooks/requests_module_Anleitung.ipynb#HTTP-Requests-verschicken) für mehr)\n",
    "* `Session`s als Kontext (`with <OBJ> as <NAME>: ...`) verwenden, dann wird Verbindung (auch im Fehlerfall) richtig geschlossen"
   ]
  },
  {
   "cell_type": "code",
   "execution_count": 48,
   "id": "52f7c827",
   "metadata": {},
   "outputs": [
    {
     "name": "stdout",
     "output_type": "stream",
     "text": [
      "'{\\n  \"cookies\": {\\n    \"sessioncookie\": \"123456789\"\\n  }\\n}\\n'\n"
     ]
    }
   ],
   "source": [
    "with requests.Session() as s:\n",
    "    s.get('https://httpbin.org/cookies/set/sessioncookie/123456789')\n",
    "    r = s.get('https://httpbin.org/cookies')\n",
    "    print(r.text.__repr__())"
   ]
  },
  {
   "cell_type": "markdown",
   "id": "d2f77619",
   "metadata": {},
   "source": [
    "* Informationen, die man auf `Session`-Ebene, dh. per `Session`-Objekt `s` setzt bleiben bestehen.  \n",
    "    * „Informationen“ sind alle möglichen (Wörterbuch-)Daten, die per [`params`](http://localhost:8888/notebooks/requests_module_Anleitung.ipynb#URL-Parameter-(Pfad--und-Queryparameter)), [`data`](http://localhost:8888/notebooks/requests_module_Anleitung.ipynb#params-Attribut-&-data-Attribut), `headers`, `auth`, `cookies` ... übergeben werden\n",
    "    * `Session`-Wörterbuch-Daten können gelöscht werden, indem der Wert des Schlüssels auf `None` gesetzt wird\n",
    "* Cookies per [Cookies – requests-Doku](https://requests.readthedocs.io/en/latest/api/#api-cookies) manipulieren/ hinzufügen, etc."
   ]
  },
  {
   "cell_type": "markdown",
   "id": "f0fdd56f",
   "metadata": {},
   "source": [
    "* Informationen auf Methoden-Ebene (hier `headers=...`) werden entweder\n",
    "    * hinzugefügt oder\n",
    "    * überschreiben die auf `Session`-Ebene"
   ]
  },
  {
   "cell_type": "code",
   "execution_count": 46,
   "id": "42d99e2e",
   "metadata": {},
   "outputs": [
    {
     "name": "stdout",
     "output_type": "stream",
     "text": [
      "True\n"
     ]
    }
   ],
   "source": [
    "with requests.Session() as s:\n",
    "    # Session-Ebene\n",
    "    s.auth = ('user', 'pass')\n",
    "    s.headers.update({'x-test': 'true'})\n",
    "    # Methoden-Ebene; both 'x-test' and 'x-test2' are sent\n",
    "    r = s.get('https://httpbin.org/headers', headers={'x-test2': 'true'})\n",
    "    print(\"x-test\" and \"x-test2\" in r.request.headers)"
   ]
  },
  {
   "cell_type": "markdown",
   "id": "667f6497",
   "metadata": {},
   "source": [
    "* Methoden-Parameter (hier `cookies=...`) gehen dagegen verloren"
   ]
  },
  {
   "cell_type": "code",
   "execution_count": 52,
   "id": "e5190eca",
   "metadata": {},
   "outputs": [
    {
     "name": "stdout",
     "output_type": "stream",
     "text": [
      "Mit Cookies:\n",
      "\t'{\\n  \"cookies\": {\\n    \"from-my\": \"browser\"\\n  }\\n}\\n'\n",
      "Ohne Cookies:\n",
      "\t'{\\n  \"cookies\": {}\\n}\\n'\n"
     ]
    }
   ],
   "source": [
    "with requests.Session() as s:\n",
    "    r = s.get('https://httpbin.org/cookies', cookies={'from-my': 'browser'})\n",
    "    print(f\"Mit Cookies:\\n\\t{r.text.__repr__()}\")\n",
    "    r.text\n",
    "    # '{\"cookies\": {\"from-my\": \"browser\"}}'\n",
    "    r = s.get('https://httpbin.org/cookies')\n",
    "    print(f\"Ohne Cookies:\\n\\t{r.text.__repr__()}\")\n",
    "    # '{\"cookies\": {}}'; Cookie-Informationen der ersten Anfrage nicht dabei"
   ]
  },
  {
   "cell_type": "markdown",
   "id": "75385b8d",
   "metadata": {},
   "source": [
    "## Übersprungen/TODO\n",
    "* [SSL Cert Verification – requests-Doku](https://requests.readthedocs.io/en/latest/user/advanced/#ssl-cert-verification)\n",
    "* [Client Side Certificates – requests-Doku](https://requests.readthedocs.io/en/latest/user/advanced/#client-side-certificates)\n",
    "* [CA Certificates – requests-Doku](https://requests.readthedocs.io/en/latest/user/advanced/#ca-certificates)\n",
    "* [Streaming Uploads – requests-Doku](https://requests.readthedocs.io/en/latest/user/advanced/#streaming-uploads)\n",
    "* [Chunk-Encoded Requests – requests-Doku](https://requests.readthedocs.io/en/latest/user/advanced/#chunk-encoded-requests)\n",
    "* [POST Multiple Multipart-Encoded Files – requests-Doku](https://requests.readthedocs.io/en/latest/user/advanced/#post-multiple-multipart-encoded-files)"
   ]
  }
 ],
 "metadata": {
  "kernelspec": {
   "display_name": "Python 3 (ipykernel)",
   "language": "python",
   "name": "python3"
  },
  "language_info": {
   "codemirror_mode": {
    "name": "ipython",
    "version": 3
   },
   "file_extension": ".py",
   "mimetype": "text/x-python",
   "name": "python",
   "nbconvert_exporter": "python",
   "pygments_lexer": "ipython3",
   "version": "3.10.6"
  }
 },
 "nbformat": 4,
 "nbformat_minor": 5
}
