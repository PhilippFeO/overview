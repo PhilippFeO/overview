{
 "cells": [
  {
   "cell_type": "markdown",
   "id": "38e9e074",
   "metadata": {},
   "source": [
    "# [pwntools](https://docs.pwntools.com/en/stable/)\n",
    "* Es gibt zwei Packete\n",
    "    * `pwnlib`\n",
    "    * `pwn` (umfangreicher)"
   ]
  },
  {
   "cell_type": "code",
   "execution_count": 4,
   "id": "bda16c9b",
   "metadata": {},
   "outputs": [],
   "source": [
    "from pwn import *"
   ]
  },
  {
   "cell_type": "markdown",
   "id": "b29fb0c2",
   "metadata": {},
   "source": [
    "## [Getting Started – pwntools-Doku](https://docs.pwntools.com/en/stable/intro.html)\n",
    "### [Verbindung herstellen – pwntools-Doku](https://docs.pwntools.com/en/stable/intro.html#making-connections)\n",
    "* Um ein Programm/Binary zu kompromittieren, muss man mit diesem „sprechen“ => `pwnlib.tubes`-Modul\n",
    "    * Standard-Schnittstelle, um mit Prozessen, Sockets, [Serial Ports – pwntools-GitHub](https://github.com/Gallopsled/pwntools-tutorial/blob/master/tubes.md#serial-ports) (bspw. USB-Schnittstellen?), etc. zu kommunizieren, dh. für `I/O`-Operationen\n",
    "    * [tubes – pwntools-Doku](https://pwntools.readthedocs.org/en/latest/tubes.html)\n",
    "    * Man kann `tubes` verbinden und irgendetwas mit `Regex` machen\n",
    "* Es gibt auch ein `ssh`-Modul: `pwnlib.tubes.ssh`, [SSH – pwntools-GitHub](https://github.com/Gallopsled/pwntools-tutorial/blob/master/tubes.md#secure-shell)"
   ]
  },
  {
   "cell_type": "markdown",
   "id": "390b9305",
   "metadata": {},
   "source": [
    "#### Internetverbindung: `pwnlib.tubes.remote`"
   ]
  },
  {
   "cell_type": "code",
   "execution_count": null,
   "id": "96bc045b",
   "metadata": {},
   "outputs": [],
   "source": [
    "conn = remote('ftp.ubuntu.com', 21)\n",
    "conn.recvline() # doctest: +ELLIPSIS <-- Was bedeutet das?\n",
    "# b'220...'"
   ]
  },
  {
   "cell_type": "code",
   "execution_count": null,
   "id": "a563341b",
   "metadata": {},
   "outputs": [],
   "source": [
    "conn.send(b'USER anonymous\\r\\n')\n",
    "conn.recvuntil(b' ', drop=True)\n",
    "# b'331'\n",
    "conn.recvline()\n",
    "# b'Please specify the password.\\r\\n'\n",
    "conn.close()"
   ]
  },
  {
   "cell_type": "markdown",
   "id": "caa84938",
   "metadata": {},
   "source": [
    "#### Listener"
   ]
  },
  {
   "cell_type": "code",
   "execution_count": null,
   "id": "46b23b3e",
   "metadata": {},
   "outputs": [],
   "source": [
    "l = listen()\n",
    "r = remote('localhost', l.lport)\n",
    "c = l.wait_for_connection()\n",
    "r.send(b'hello')\n",
    "c.recv()\n",
    "# b'hello'"
   ]
  },
  {
   "cell_type": "markdown",
   "id": "ce0ad24a",
   "metadata": {},
   "source": [
    "#### Interaktion mit Prozessen: `pwnlib.tubes.process`\n",
    "* Mit manchen Prozessen kann man interagieren: `process(<Prozess>).interactive()`\n",
    "    * bspw. öffnet `process(\"/bin/sh\").interactive()` eine Shell"
   ]
  },
  {
   "cell_type": "code",
   "execution_count": null,
   "id": "bdede32d",
   "metadata": {},
   "outputs": [],
   "source": [
    "sh = process('/bin/sh')  # oder python-Executable, dh. mit python-shebang am Anfang\n",
    "# Dem Prozess „Input“ schicken\n",
    "sh.sendline(b'sleep 3; echo hello world;')\n",
    "# Ausgabe des Prozesses\n",
    "sh.recvline(timeout=1)\n",
    "# b''\n",
    "o = sh.recvline(timeout=5)\n",
    "# b'hello world\\n'\n",
    "sh.close()"
   ]
  },
  {
   "cell_type": "markdown",
   "id": "a85fd723",
   "metadata": {},
   "source": [
    "### [Integer & Bytes – pwntools-Doku](https://docs.pwntools.com/en/stable/intro.html#packing-integers)\n",
    "* `p<Bit-Anzahl>` verpackt (en.: to `p`ack) Integer/Hex-Zahlen als `b-String`\n",
    "* `u<Bit-Anzahl>` rechnet (en.: to `u`npack) `b-String`/Byte-Iterable zu Integer um"
   ]
  },
  {
   "cell_type": "code",
   "execution_count": 12,
   "id": "e5fc257c",
   "metadata": {},
   "outputs": [
    {
     "data": {
      "text/plain": [
       "True"
      ]
     },
     "execution_count": 12,
     "metadata": {},
     "output_type": "execute_result"
    }
   ],
   "source": [
    "i = p8(16) == b\"\\x10\"\n",
    "j = u8(b\"A\") == 0x41\n",
    "i == j"
   ]
  },
  {
   "cell_type": "markdown",
   "id": "67eaf793",
   "metadata": {},
   "source": [
    "### Diverses\n",
    "* `context.log_level = 'debug'` sorgt dafür, dass jegliche gesendete und erhaltene Daten ausgegeben werden"
   ]
  },
  {
   "cell_type": "markdown",
   "id": "10424f6d",
   "metadata": {},
   "source": [
    "### TODO\n",
    "* [Setting Target Architecture and OS – pwntools-Doku](https://docs.pwntools.com/en/stable/intro.html#setting-the-target-architecture-and-os)\n",
    "    * Ich glaube, das benötigt man, wenn man Betriebssystem-spezifischen Code, bspw. `Assembler`-Code, mit `pwntools` schreiben oder von einer Byte-Darstellung aus lesbar machen möchte\n",
    "    * [Assembly and Disassembly – pwntools-Doku](https://docs.pwntools.com/en/stable/intro.html#assembly-and-disassembly)\n",
    "    * ...oder bei Integer-Darstellungen, da diese von `endian`, `bits` und `sign` abhängen\n",
    "* [Misc Tools – pwntools-Doku](https://docs.pwntools.com/en/stable/intro.html#misc-tools)\n",
    "* [ELF Manipulation – pwntools-Doku](https://docs.pwntools.com/en/stable/intro.html#elf-manipulation)"
   ]
  },
  {
   "cell_type": "markdown",
   "id": "19bd1c90",
   "metadata": {},
   "source": [
    "## [GitHub-Tutorial](https://github.com/Gallopsled/pwntools-tutorial/blob/master/)\n",
    "### [`tubes` – pwntools-GitHub](https://github.com/Gallopsled/pwntools-tutorial/blob/master/tubes.md)\n",
    "* `tubes` übernehmen `I/O`-Operationen, dh. wenn von „Empfangen“ und „Senden“ die Rede ist, geht es um Ein- sowie Ausgabe, bspw. bei einem Prozess/Programm/Binary ([Verbindung herstellen – pwntools-Notebook](http://localhost:8888/notebooks/pwntools_Anleitung.ipynb#Verbindung-herstellen-%E2%80%93-pwntools-Doku))\n",
    "\n",
    "#### [Empfangen - pwntools-GitHub](https://github.com/Gallopsled/pwntools-tutorial/blob/master/tubes.md#receiving-data)\n",
    "* `recv(<Anzahl Bytes>)`: Empfange `<Anzahl Bytes>` Bytes an Daten, wenn verfügbar\n",
    "* `recvline()`: Emfpange Daten bis `\\n`\n",
    "* `recvuntil(<Trennzeichen>)`: Empfange Daten bis `<Trennzeichen>` (in `Bytes`, bspw. als `b`-String (es gibt aber noch andere Möglichkeiten)\n",
    "* `recvregex(<Regex>)`: Empfange Daten bis `<Regex>` TODO: `<Regex>` in `Bytes`?\n",
    "* `recvrepeat(<Zeitlimit in ?>)`: Empfange Daten entsprechend des Zeitlimits\n",
    "* `clean()`: Verwerfe gepufferte Daten\n",
    "\n",
    "#### [Senden – pwntools-GitHub](https://github.com/Gallopsled/pwntools-tutorial/blob/master/tubes.md#sending-data)\n",
    "* `send(<Daten in Bytes>)`: Sendet Daten\n",
    "* `sendline(<Zeile>)`: Verschickt Daten + `\\n`"
   ]
  },
  {
   "cell_type": "markdown",
   "id": "841843a8",
   "metadata": {},
   "source": [
    "#### [Prozesse und deren Grundlagen – pwntools-GitHub](https://github.com/Gallopsled/pwntools-tutorial/blob/master/tubes.md#processes-and-basic-features)\n",
    "* [`process` – pwntools-Doku](https://pwntools.readthedocs.org/en/latest/tubes/processes.html)-Objekt mit Name des Ziel-Binarys instanziieren"
   ]
  },
  {
   "cell_type": "code",
   "execution_count": null,
   "id": "ee94e73e",
   "metadata": {},
   "outputs": [],
   "source": [
    "io = process('sh')\n",
    "io.sendline('echo Hello, world')\n",
    "io.recvline()\n",
    "# b'Hello, world\\n'"
   ]
  },
  {
   "cell_type": "markdown",
   "id": "9f54132f",
   "metadata": {},
   "source": [
    "* Kommandozeilenargumente und Umgebungsvariablen können auch gesetzt werden:"
   ]
  },
  {
   "cell_type": "code",
   "execution_count": null,
   "id": "5e0cfce9",
   "metadata": {},
   "outputs": [],
   "source": [
    "io = process(['sh', '-c', 'echo $MYENV'], env={'MYENV': 'MYVAL'})\n",
    "io.recvline()\n",
    "# b'MYVAL\\n'"
   ]
  },
  {
   "cell_type": "markdown",
   "id": "3e63a0ff",
   "metadata": {},
   "source": [
    "#### [Netzwerkverbindungen – pwntools-GitHub](https://github.com/Gallopsled/pwntools-tutorial/blob/master/tubes.md#networking)\n",
    "* `remote`-Objekt stellt Verbindung *nach außen* her\n",
    "    * per `typ=…` & `fam=…` können Protokollinformationen angegeben werden \n",
    "* `listen`-Instanz wartet auf Verbindung *von außen*"
   ]
  },
  {
   "cell_type": "code",
   "execution_count": null,
   "id": "7c738709",
   "metadata": {},
   "outputs": [],
   "source": [
    "io = remote('google.com', 80)\n",
    "io.send('GET /\\r\\n\\r\\n')\n",
    "io.recvline()\n",
    "# 'HTTP/1.0 200 OK\\r\\n'"
   ]
  },
  {
   "cell_type": "code",
   "execution_count": null,
   "id": "e3566f36",
   "metadata": {},
   "outputs": [],
   "source": [
    "client = listen(8080).wait_for_connection()"
   ]
  },
  {
   "cell_type": "markdown",
   "id": "02ad2aa4",
   "metadata": {},
   "source": [
    "### [Ver- & Entpacken von Integern – pwntools-GitHub](https://github.com/Gallopsled/pwntools-tutorial/blob/master/utility.md#packing-and-unpacking-integers)\n",
    "* Umrechnen zwischen Byte-/Hex- und Basis 10-Darstellung von Integern\n",
    "    * Funktionen beachten globale Einstellungen in [`context` – pwntools-GitHub](https://github.com/Gallopsled/pwntools-tutorial/blob/master/context.md)"
   ]
  },
  {
   "cell_type": "markdown",
   "id": "a994a0be",
   "metadata": {},
   "source": [
    "### [Schreiben & Lesen von Dateien – pwntools-GitHub](https://github.com/Gallopsled/pwntools-tutorial/blob/master/utility.md#file-io)\n",
    "* `write(<Dateiname>, <Daten>)`: `<Daten>` können als `Bytes` oder `String` vorliegen\n",
    "* `read(<Dateiname>, [<Anzahl Zeichen/Bytes>])`: `<Anzahl Zeichen/Bytes>` optional, wenn nicht spezifiziert, wird ganze Datei gelesen"
   ]
  },
  {
   "cell_type": "markdown",
   "id": "d4dc77fa",
   "metadata": {},
   "source": [
    "### [Hashing & Encoding – pwntools-GitHub](https://github.com/Gallopsled/pwntools-tutorial/blob/master/utility.md#hashing-and-encoding)\n",
    "* Base64: `b64e(<Bytes>)`, `b64d<String/Bytes>)`\n",
    "* md5: `md5(sum|file)hex(<Bytes/Dateiname>)`: Berechnet `md5`-Hash; `sum` für `Byte`-Objekt, `file` um Dateiinhalt (muss nicht in `Bytes` vorliegen) zu hashen\n",
    "* sha1: `sha1(sum|file)hex(<Bytes/Dateiname>)`: Analog zu md5\n",
    "* URL-Encoding: `urlencode(<String>)` (funktioniert nicht mit `Bytes`\n",
    "* String zu Hex: `enhex(<Bytes>)` und `unhex(<Hex-Zahl>)`\n",
    "    * `enhex(<Bytes>)` macht dasselbe wie `hex(b) for b in <Bytes>`\n",
    "* [Bits – pwntools-GitHub](https://github.com/Gallopsled/pwntools-tutorial/blob/master/utility.md#bit-manipulation-and-hex-dumping): `bits(<Zahl>)`, wobei `<Zahl>` alles mögliche sein kann, dh `int`, `0x…`, `0b…` usw.  \n",
    "    * Rückgabe: Liste mit den `Bits`, zB `bits(0x8) == [0, 0, 0, 0, 1, 0, 0, 0]`\n",
    "* [Hex-Dumping – python-GitHub](https://github.com/Gallopsled/pwntools-tutorial/blob/master/utility.md#hex-dumping): TODO Unklar, was das genau ist/macht und wofür es gut ist  \n",
    "`hexdump(…)`"
   ]
  },
  {
   "cell_type": "markdown",
   "id": "8adb2dd0",
   "metadata": {},
   "source": [
    "### [Puffer-Überlauf und Mustergenerierung](https://github.com/Gallopsled/pwntools-tutorial/blob/master/utility.md#pattern-generation)\n",
    "* TODO Ich weiß zwar, was ein Puffer-Überlauf (Buffer-Overflow) ist, aber aus dem Stand heraus weiß ich gerade nicht, wie ich diese Funktionalität anwenden kann, da mir die Praxis fehlt"
   ]
  },
  {
   "cell_type": "markdown",
   "id": "acf10eb3",
   "metadata": {},
   "source": [
    "## [`Context`-Objekt – pwntools-GitHub](https://github.com/Gallopsled/pwntools-tutorial/blob/master/context.md#context)\n",
    "* globales, „Thread-awares“ Objekt, das verschiedenste Einstellung enthält\n",
    "* Man findet am Skript-Anfang häufig etwas wie `context.arch = 'amd64`, um anzugeben für welche Architektur der Shellcode generiert werden soll\n",
    "* [`arch` – pwntools-GitHub](https://github.com/Gallopsled/pwntools-tutorial/blob/master/context.md#arch): `aarch64`, `arm`, `i386` (Standard), `amd64`\n",
    "* [`bits` – pwntools-GitHub](https://github.com/Gallopsled/pwntools-tutorial/blob/master/context.md#bits): `32` oder `64` Bit\n",
    "* [`binary` – pwntools-GitHub](https://github.com/Gallopsled/pwntools-tutorial/blob/master/context.md#binary): Übernimmt Einstellungen aus einer ELF-Datei TODO Unklar, was das genau macht\n",
    "* [`endian` – pwntools-GitHub](https://github.com/Gallopsled/pwntools-tutorial/blob/master/context.md#endian): `big` oder `little` (Standard)\n",
    "* [`log_file` – pwntools-GitHub](https://github.com/Gallopsled/pwntools-tutorial/blob/master/context.md#log_file): Datei in der die Log-Informationen geschrieben werden sollen\n",
    "* [`log_level` – pwntools-GitHub](https://github.com/Gallopsled/pwntools-tutorial/blob/master/context.md#log_level): Granularität des Loggings; Integer- oder String-Werte (wie `debug`, `info` oder `error`)\n",
    "* [`sign` – pwntools-GitHub](https://github.com/Gallopsled/pwntools-tutorial/blob/master/context.md#sign): Verwendung von Vorzeichen-behafteten Integern oder nicht für [`pack` und `unpack` – pwntools-Notebook](http://localhost:8888/notebooks/pwntools_Anleitung.ipynb#Ver--&-Entpacken-von-Integern-%E2%80%93-pwntools-GitHub); `signed` oder `unsigned` (Standard)\n",
    "* [`terminal` – pwntools-GitHub](https://github.com/Gallopsled/pwntools-tutorial/blob/master/context.md#terminal): Welches Terminal beim Öffnen neuer Fenster verwendet werden soll; Standard: `x-terminal-emulator` oder `tmux`\n",
    "* [`timeout` – pwntools-GitHub](https://github.com/Gallopsled/pwntools-tutorial/blob/master/context.md#update): Standardzeitlimit für [`tube` – pwntools-Notebook](http://localhost:8888/notebooks/pwntools_Anleitung.ipynb#tubes-%E2%80%93-pwntools-GitHub)-Operationen\n",
    "* [`update` – pwntools-GitHub](https://github.com/Gallopsled/pwntools-tutorial/blob/master/context.md#update): Setzt mehrere Werte auf einmal, bspw. `context.update(arch='mips', bits=64, endian='big')`"
   ]
  },
  {
   "cell_type": "markdown",
   "id": "e09e221b",
   "metadata": {},
   "source": [
    "### [ELF-Dateien – pwntools-GitHub](https://github.com/Gallopsled/pwntools-tutorial/blob/master/elf.md)\n",
    "* `ELF`-Dateien sind „Executable und Linkable Files“\n",
    "* Ab hier fortsetzen"
   ]
  }
 ],
 "metadata": {
  "kernelspec": {
   "display_name": "Python 3 (ipykernel)",
   "language": "python",
   "name": "python3"
  },
  "language_info": {
   "codemirror_mode": {
    "name": "ipython",
    "version": 3
   },
   "file_extension": ".py",
   "mimetype": "text/x-python",
   "name": "python",
   "nbconvert_exporter": "python",
   "pygments_lexer": "ipython3",
   "version": "3.10.6"
  }
 },
 "nbformat": 4,
 "nbformat_minor": 5
}
